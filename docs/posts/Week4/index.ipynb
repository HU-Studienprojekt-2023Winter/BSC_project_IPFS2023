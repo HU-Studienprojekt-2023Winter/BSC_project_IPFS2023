{
  "cells": [
    {
      "cell_type": "markdown",
      "metadata": {},
      "source": [
        "# Week4: Grain development\n",
        "\n",
        "Tien-Cheng  \n",
        "5/9/23\n",
        "\n",
        "Welcome to the third course! You will learn `ggplot` and `dataframe`\n",
        "wrangling:\n",
        "\n",
        "> **Learning goals**\n",
        ">\n",
        "> 1.  data frame wrangling with `dplyr`\n",
        "> 2.  ggplot2\n",
        "\n",
        "[Review game Kahoot!](https://kahoot.it/)"
      ],
      "id": "818965be-e459-40ea-958d-a6dfff495f4b"
    }
  ],
  "nbformat": 4,
  "nbformat_minor": 5,
  "metadata": {
    "kernelspec": {
      "display_name": "Python 3",
      "language": "python",
      "name": "python3"
    }
  }
}